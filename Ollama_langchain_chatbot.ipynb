{
 "cells": [
  {
   "cell_type": "code",
   "execution_count": 5,
   "id": "4b2cc2fa-4abd-441d-9732-623eaac0f2e5",
   "metadata": {},
   "outputs": [],
   "source": [
    "#!pip install langchain-ollama langchain-community==0.2.4 langchain==0.2.3 faiss-cpu==1.8.0 unstructured==0.14.5 unstructured[pdf]==0.14.5 transformers==4.41.2 sentence-transformers==3.0.1"
   ]
  },
  {
   "cell_type": "code",
   "execution_count": 7,
   "id": "b541b4f2-0cf5-40d4-bf97-1a96c6719330",
   "metadata": {},
   "outputs": [
    {
     "data": {
      "text/plain": [
       "\"A great problem!\\n\\nTo write the SystemVerilog code for an 8-bit Full Adder, we'll follow these steps:\\n\\n1. Define the inputs and outputs of the full adder:\\n\\t* `a`: 8-bit input (A)\\n\\t* `b`: 8-bit input (B)\\n\\t* `cin`: 1-bit input (carry-in)\\n\\t* `s`: 8-bit output (sum)\\n\\t* `cout`: 1-bit output (carry-out)\\n2. Declare the variables needed for the full adder:\\n\\t* `temp_sum`: temporary sum variable\\n3. Implement the logic for each bit position of the full adder:\\n\\n```\\nmodule full_adder #(\\n    parameter WIDTH = 8 // width of the full adder\\n) (\\n    input [WIDTH-1:0] a, b, // inputs A and B\\n    input cin, // carry-in\\n    output reg [WIDTH-1:0] s, // sum\\n    output reg cout // carry-out\\n);\\n\\nalways @(*) begin\\n    s = a + b + cin; // calculate the sum\\n\\n    // generate the carry-out (cout)\\n    cout = (a[WIDTH-1] & b[WIDTH-1]) | (a[WIDTH-1] & cin) | (b[WIDTH-1] & cin);\\nend\\n```\\n\\nIn this code:\\n\\n* We define a parameter `WIDTH` to specify the width of the full adder.\\n* The inputs `a`, `b`, and `cin` are declared as 8-bit vectors, while `s` and `cout` are declared as outputs (reg type).\\n* Inside the always block, we calculate the sum `s` by adding the input bits and the carry-in bit (`a + b + cin`).\\n* We generate the carry-out `cout` using a combination of bitwise operations to determine whether there's a carry.\\n\\nThat's it! This SystemVerilog code implements an 8-bit Full Adder.\""
      ]
     },
     "execution_count": 7,
     "metadata": {},
     "output_type": "execute_result"
    }
   ],
   "source": [
    "from langchain_core.prompts import ChatPromptTemplate\n",
    "from langchain_ollama.llms import OllamaLLM\n",
    "\n",
    "template = \"\"\"Question: {question}\n",
    "\n",
    "Answer: Let's think step by step.\"\"\"\n",
    "\n",
    "prompt = ChatPromptTemplate.from_template(template)\n",
    "\n",
    "model = OllamaLLM(model=\"llama3:latest\")\n",
    "\n",
    "chain = prompt | model\n",
    "\n",
    "chain.invoke({\"question\": \"Write System Verilog code for 8-bit Full Adder.\"})"
   ]
  },
  {
   "cell_type": "code",
   "execution_count": 10,
   "id": "a968547b-0643-421d-9d1b-a864481b43c7",
   "metadata": {},
   "outputs": [
    {
     "name": "stdout",
     "output_type": "stream",
     "text": [
      "Here is the SystemVerilog code for an 8-bit full adder:\n",
      "```\n",
      "module full_adder_8bit(input logic [7:0] a, input logic [7:0] b, input logic carry_in,\n",
      "                       output logic [7:0] sum, output logic carry_out);\n",
      "\n",
      "logic [7:0] t_sum;\n",
      "logic t_carry;\n",
      "\n",
      "// Bit-wise addition\n",
      "assign {t_carry, t_sum[7:1]} = a + b + carry_in;\n",
      "\n",
      "// Carry-out calculation\n",
      "assign carry_out = t_carry;\n",
      "\n",
      "// Sum calculation\n",
      "assign sum = t_sum;\n",
      "\n",
      "endmodule\n",
      "```\n",
      "Let me explain what's going on in this code:\n",
      "\n",
      "* The module is called `full_adder_8bit`, and it takes three inputs:\n",
      "\t+ `a` and `b`: 8-bit vectors representing the two input values to be added.\n",
      "\t+ `carry_in`: a single bit indicating whether there is a carry-in from the previous stage (0 or 1).\n",
      "* The module produces two outputs:\n",
      "\t+ `sum`: an 8-bit vector representing the sum of the inputs and any carry-in.\n",
      "\t+ `carry_out`: a single bit indicating whether there is a carry-out to the next stage (0 or 1).\n",
      "* The code uses bit-wise addition to calculate the sum and carry-out. This is done by adding the three input values together using the following equation:\n",
      "```\n",
      "sum = a + b + carry_in\n",
      "carry_out = (a[7] && b[7] && carry_in) || ((a[7] || b[7] || carry_in) && ~a[7] && ~b[7] && ~carry_in)\n",
      "```\n",
      "This equation is implemented in the code using a simple assignment statement.\n",
      "\n",
      "* The `assign` statements are used to connect the output wires (`sum` and `carry_out`) to the calculated values.\n"
     ]
    }
   ],
   "source": [
    "import ollama\n",
    "response = ollama.chat(model='llama3', messages=[\n",
    "  {\n",
    "    'role': 'user',\n",
    "    'content': 'Write System Verilog code for 8-bit Full Adder.',\n",
    "  },\n",
    "])\n",
    "print(response['message']['content'])"
   ]
  },
  {
   "cell_type": "code",
   "execution_count": null,
   "id": "2425b1e1-ba5f-4b45-83d4-0a006f3a95c5",
   "metadata": {},
   "outputs": [],
   "source": []
  },
  {
   "cell_type": "code",
   "execution_count": null,
   "id": "725dfa62-1217-49dc-aa5d-f049be33e451",
   "metadata": {},
   "outputs": [],
   "source": []
  },
  {
   "cell_type": "code",
   "execution_count": null,
   "id": "44bb7dd8-8e5a-4542-a687-773dcb042d0e",
   "metadata": {},
   "outputs": [],
   "source": []
  },
  {
   "cell_type": "code",
   "execution_count": null,
   "id": "9792dc45-57a4-4bfd-9133-406b75400d18",
   "metadata": {},
   "outputs": [],
   "source": []
  },
  {
   "cell_type": "code",
   "execution_count": null,
   "id": "9b23b61a-e465-4b2b-a2fb-831ad0a9ccef",
   "metadata": {},
   "outputs": [],
   "source": []
  },
  {
   "cell_type": "code",
   "execution_count": null,
   "id": "324a2ead-0d31-4762-96fc-7e57bd3a5d49",
   "metadata": {},
   "outputs": [],
   "source": []
  },
  {
   "cell_type": "code",
   "execution_count": null,
   "id": "2ae8977d-4229-4d62-acb4-1fdbc64fd905",
   "metadata": {},
   "outputs": [],
   "source": []
  },
  {
   "cell_type": "code",
   "execution_count": null,
   "id": "20e913ae-19c7-4b46-b0af-df5d49aa18d1",
   "metadata": {},
   "outputs": [],
   "source": [
    "import os\n",
    "\n",
    "from langchain_community.llms import Ollama\n",
    "from langchain.document_loaders import UnstructuredFileLoader\n",
    "from langchain_community.vectorstores import FAISS\n",
    "from langchain.embeddings import HuggingFaceEmbeddings\n",
    "from langchain.text_splitter import CharacterTextSplitter\n",
    "from langchain.chains import RetrievalQA"
   ]
  },
  {
   "cell_type": "code",
   "execution_count": null,
   "id": "a24f7570-6361-4e69-aa6e-4692ff845ba5",
   "metadata": {},
   "outputs": [],
   "source": [
    "# loading the LLM\n",
    "llm = Ollama(\n",
    "    model=\"llama3:latest\",\n",
    "    temperature=0\n",
    ")"
   ]
  },
  {
   "cell_type": "code",
   "execution_count": null,
   "id": "9a7cd416-5b7d-4e24-842c-20cdddccbacf",
   "metadata": {},
   "outputs": [],
   "source": [
    "# loading the document\n",
    "loader = UnstructuredFileLoader(\"NIPS-2017-attention-is-all-you-need-Paper.pdf\")\n",
    "documents = loader.load()"
   ]
  },
  {
   "cell_type": "code",
   "execution_count": null,
   "id": "e9acf8c8-0790-4d65-9421-64316f1bd37b",
   "metadata": {},
   "outputs": [],
   "source": [
    "# create document chunks\n",
    "text_splitter = CharacterTextSplitter(separator=\"/n\",\n",
    "                                      chunk_size=1000,\n",
    "                                      chunk_overlap=200)"
   ]
  },
  {
   "cell_type": "code",
   "execution_count": null,
   "id": "f44f31ca-d115-4de3-b91f-1b62dd331472",
   "metadata": {},
   "outputs": [],
   "source": [
    "# loading the vector embedding model\n",
    "embeddings = HuggingFaceEmbeddings()"
   ]
  },
  {
   "cell_type": "code",
   "execution_count": null,
   "id": "f70006a6-0f98-4391-ae3f-cac5f5763504",
   "metadata": {},
   "outputs": [],
   "source": [
    "knowledge_base = FAISS.from_documents(text_chunks, embeddings)"
   ]
  },
  {
   "cell_type": "code",
   "execution_count": null,
   "id": "56d8c64b-544c-40ce-a09a-b0535c49d984",
   "metadata": {},
   "outputs": [],
   "source": [
    "# retrieval QA chain\n",
    "qa_chain = RetrievalQA.from_chain_type(\n",
    "    llm,\n",
    "    retriever=knowledge_base.as_retriever())"
   ]
  },
  {
   "cell_type": "code",
   "execution_count": null,
   "id": "b58771d0-b21e-4537-b821-6d3f5e7f33de",
   "metadata": {},
   "outputs": [],
   "source": [
    "question = \"What is this document about?\"\n",
    "response = qa_chain.invoke({\"query\": question})\n",
    "print(response[\"result\"])"
   ]
  },
  {
   "cell_type": "code",
   "execution_count": null,
   "id": "e529ec60-2bab-4d18-bca9-51a6f3fa27b2",
   "metadata": {},
   "outputs": [],
   "source": [
    "question = \"What is the architecture discussed in the model?\"\n",
    "response = qa_chain.invoke({\"query\": question})\n",
    "print(response[\"result\"])"
   ]
  },
  {
   "cell_type": "code",
   "execution_count": null,
   "id": "7da6a23a-3a92-4b51-8e84-bd2fdf62fbff",
   "metadata": {},
   "outputs": [],
   "source": []
  }
 ],
 "metadata": {
  "kernelspec": {
   "display_name": "Python 3 (ipykernel)",
   "language": "python",
   "name": "python3"
  },
  "language_info": {
   "codemirror_mode": {
    "name": "ipython",
    "version": 3
   },
   "file_extension": ".py",
   "mimetype": "text/x-python",
   "name": "python",
   "nbconvert_exporter": "python",
   "pygments_lexer": "ipython3",
   "version": "3.11.4"
  }
 },
 "nbformat": 4,
 "nbformat_minor": 5
}
